{
 "cells":[
  {
   "cell_type":"code",
   "source":[
    "from sklearn.base import clone\n",
    "from itertools import combinations\n",
    "import numpy as np\n",
    "from sklearn.metrics import accuracy_score\n",
    "from sklearn.model_selection import train_test_split"
   ],
   "execution_count":1,
   "outputs":[
    
   ],
   "metadata":{
    "datalore":{
     "type":"CODE",
     "hide_input_from_viewers":false,
     "hide_output_from_viewers":false,
     "node_id":"CQN3TPQyjeCh1Nhs9A56Q4"
    }
   }
  },
  {
   "cell_type":"code",
   "source":[
    "class SBS:\n",
    "    def __init__(self, estimator, k_features,\n",
    "                 scoring = accuracy_score,\n",
    "                 test_size = 0.25, random_state = 1):\n",
    "        self.scoring = scoring\n",
    "        self.estimator = clone(estimator)\n",
    "        self.k_features = k_features\n",
    "        self.test_size = test_size\n",
    "        self.random_state = random_state\n",
    "\n",
    "    def fit(self, X, y):\n",
    "        X_train, X_test, y_train, y_test = \\\n",
    "            train_test_split(X,y, test_size=self.test_size,\n",
    "                             random_state=self.random_state)\n",
    "        \n",
    "        dim = X_train.shape[1]\n",
    "        self.indices_ = tuple(range(dim))\n",
    "        self.subsets_ = [self.indices_]\n",
    "        score = self._calc_score(X_train, y_train,\n",
    "                                 X_test, y_test, self.indices_)\n",
    "        self.score = [score]\n",
    "        while dim > self.k_features:\n",
    "            scores = []\n",
    "            subsets = []\n",
    "\n",
    "            for p in combinations(self.indices_, r=dim -1):\n",
    "                score = self._calc_score(X_train, y_train, X_test, y_test)\n",
    "                scores.append(score)\n",
    "                subsets.append(p)\n",
    "            \n",
    "                best = np.argmax(scores)\n",
    "                self.indices_ = subsets[best]\n",
    "                self.subsets_.append(self.indices_)\n",
    "                dim -= 1\n",
    "\n",
    "                self.scores_.append(scores[best])\n",
    "            self.k_score_ = self.scores_[-1]\n",
    "\n",
    "            return self\n",
    "        \n",
    "        def transform(selfself, X):\n",
    "            return X[:, self.indices_]\n",
    "        \n",
    "\n",
    "        def _calc_score(self, X_train, y_train, X_test, y_test, indices):\n",
    "            self.estimator.fit(X_train[:, indices], y_train)\n",
    "            y_pred = self.estimator.predict(X_test[:, indices])\n",
    "            score = self.scoring(y_test, y_pred)\n",
    "            return score"
   ],
   "execution_count":3,
   "outputs":[
    
   ],
   "metadata":{
    "datalore":{
     "type":"CODE",
     "hide_input_from_viewers":false,
     "hide_output_from_viewers":false,
     "node_id":"FHuILcZPCpNbR9HOSYmiwW"
    }
   }
  }
 ],
 "metadata":{
  "kernelspec":{
   "display_name":"Python",
   "language":"python",
   "name":"python"
  },
  "datalore":{
   "version":1,
   "computation_mode":"JUPYTER",
   "package_manager":"pip",
   "base_environment":"default",
   "packages":[
    
   ]
  }
 },
 "nbformat":4,
 "nbformat_minor":4
}
